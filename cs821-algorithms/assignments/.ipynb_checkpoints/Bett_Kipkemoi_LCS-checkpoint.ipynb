{
 "cells": [
  {
   "cell_type": "code",
   "execution_count": 2,
   "id": "a2d434ab",
   "metadata": {},
   "outputs": [],
   "source": [
    "def lcs(s1, s2):\n",
    "    \"\"\"\n",
    "    Compute the length of the Longest Common Subsequence (LCS) between two strings using dynamic programming.\n",
    "    \n",
    "    Args:\n",
    "        s1 (str): First input string\n",
    "        s2 (str): Second input string\n",
    "    \n",
    "    Returns:\n",
    "        int: Length of the LCS\n",
    "    \"\"\"\n",
    "    # Get lengths of the input strings\n",
    "    m, n = len(s1), len(s2)\n",
    "    \n",
    "    # Initialize the DP table with dimensions (m+1) x (n+1)\n",
    "    dp = [[0] * (n + 1) for _ in range(m + 1)]\n",
    "    \n",
    "    # Fill the DP table\n",
    "    for i in range(1, m + 1):\n",
    "        for j in range(1, n + 1):\n",
    "            if s1[i-1] == s2[j-1]:\n",
    "                # Characters match, extend the LCS\n",
    "                dp[i][j] = dp[i-1][j-1] + 1\n",
    "            else:\n",
    "                # Take the maximum of ignoring one character from s1 or s2\n",
    "                dp[i][j] = max(dp[i-1][j], dp[i][j-1])\n",
    "    \n",
    "    # Return the length of LCS stored in dp[m][n]\n",
    "    return dp[m][n]\n",
    "\n"
   ]
  },
  {
   "cell_type": "code",
   "execution_count": 3,
   "id": "30df7cc9",
   "metadata": {},
   "outputs": [],
   "source": [
    "# Function to also return the LCS string (optional, for visualization)\n",
    "def lcs_with_sequence(s1, s2):\n",
    "    \"\"\"\n",
    "    Compute the LCS and return both its length and the subsequence itself.\n",
    "    \n",
    "    Args:\n",
    "        s1 (str): First input string\n",
    "        s2 (str): Second input string\n",
    "    \n",
    "    Returns:\n",
    "        tuple: (length of LCS, LCS string)\n",
    "    \"\"\"\n",
    "    m, n = len(s1), len(s2)\n",
    "    dp = [[0] * (n + 1) for _ in range(m + 1)]\n",
    "    \n",
    "    # Fill the DP table\n",
    "    for i in range(1, m + 1):\n",
    "        for j in range(1, n + 1):\n",
    "            if s1[i-1] == s2[j-1]:\n",
    "                dp[i][j] = dp[i-1][j-1] + 1\n",
    "            else:\n",
    "                dp[i][j] = max(dp[i-1][j], dp[i][j-1])\n",
    "    \n",
    "    # Reconstruct the LCS string\n",
    "    lcs_seq = []\n",
    "    i, j = m, n\n",
    "    while i > 0 and j > 0:\n",
    "        if s1[i-1] == s2[j-1]:\n",
    "            lcs_seq.append(s1[i-1])\n",
    "            i -= 1\n",
    "            j -= 1\n",
    "        elif dp[i-1][j] >= dp[i][j-1]:\n",
    "            i -= 1\n",
    "        else:\n",
    "            j -= 1\n",
    "    \n",
    "    # Return length and reversed LCS string (since we built it backwards)\n",
    "    return dp[m][n], ''.join(reversed(lcs_seq))\n"
   ]
  },
  {
   "cell_type": "code",
   "execution_count": 4,
   "id": "fa617a75",
   "metadata": {},
   "outputs": [
    {
     "name": "stdout",
     "output_type": "stream",
     "text": [
      "Strings: s1='ABCDGH', s2='AEDFHR'\n",
      "LCS Length: 3\n",
      "LCS Sequence: ADH\n",
      "----------------------------------------\n",
      "Strings: s1='AGGTAB', s2='GXTXAYB'\n",
      "LCS Length: 4\n",
      "LCS Sequence: GTAB\n",
      "----------------------------------------\n",
      "Strings: s1='HELLO', s2='WORLD'\n",
      "LCS Length: 1\n",
      "LCS Sequence: L\n",
      "----------------------------------------\n"
     ]
    }
   ],
   "source": [
    "# Test the functions\n",
    "def main():\n",
    "    # Test cases\n",
    "    test_cases = [\n",
    "        (\"ABCDGH\", \"AEDFHR\"),\n",
    "        (\"AGGTAB\", \"GXTXAYB\"),\n",
    "        (\"HELLO\", \"WORLD\")\n",
    "    ]\n",
    "    \n",
    "    for s1, s2 in test_cases:\n",
    "        length = lcs(s1, s2)\n",
    "        length, sequence = lcs_with_sequence(s1, s2)\n",
    "        print(f\"Strings: s1='{s1}', s2='{s2}'\")\n",
    "        print(f\"LCS Length: {length}\")\n",
    "        print(f\"LCS Sequence: {sequence}\")\n",
    "        print(\"-\" * 40)\n",
    "\n",
    "if __name__ == \"__main__\":\n",
    "    main()"
   ]
  },
  {
   "cell_type": "code",
   "execution_count": null,
   "id": "4ff68c30",
   "metadata": {},
   "outputs": [],
   "source": [
    "# The Longest Common Subsequence (LCS) problem involves finding the longest sequence of characters that appears in the same order (but not necessarily consecutively) in two input strings, s1 and s2. \n",
    "# For example, for s1 = \"ABCDGH\" and s2 = \"AEDFHR\", the LCS is \"ADH\" (length 3).\n",
    "\n"
   ]
  }
 ],
 "metadata": {
  "kernelspec": {
   "display_name": "Python 3 (ipykernel)",
   "language": "python",
   "name": "python3"
  },
  "language_info": {
   "codemirror_mode": {
    "name": "ipython",
    "version": 3
   },
   "file_extension": ".py",
   "mimetype": "text/x-python",
   "name": "python",
   "nbconvert_exporter": "python",
   "pygments_lexer": "ipython3",
   "version": "3.11.5"
  }
 },
 "nbformat": 4,
 "nbformat_minor": 5
}
